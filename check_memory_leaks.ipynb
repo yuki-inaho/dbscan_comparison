{
 "cells": [
  {
   "cell_type": "markdown",
   "metadata": {},
   "source": [
    "コード: https://github.com/yuki-inaho/dbscan_comparison\n",
    "\n",
    "コミット: forkしたリポジトリのhotfix/memory_leaks_42e1e71ブランチの最新コミット(748040c67a182405523ae62a2647fc0cc257e7ff)"
   ]
  },
  {
   "cell_type": "code",
   "execution_count": 21,
   "metadata": {},
   "outputs": [
    {
     "name": "stdout",
     "output_type": "stream",
     "text": [
      "The autoreload extension is already loaded. To reload it, use:\n",
      "  %reload_ext autoreload\n"
     ]
    }
   ],
   "source": [
    "%load_ext autoreload\n",
    "%autoreload 2"
   ]
  },
  {
   "cell_type": "code",
   "execution_count": 22,
   "metadata": {},
   "outputs": [],
   "source": [
    "import os\n",
    "import psutil\n",
    "\n",
    "def get_memory_usage():\n",
    "    process = psutil.Process(os.getpid())\n",
    "    return process.memory_info().rss"
   ]
  },
  {
   "cell_type": "code",
   "execution_count": 23,
   "metadata": {},
   "outputs": [
    {
     "name": "stdout",
     "output_type": "stream",
     "text": [
      "0.0.12\n",
      "Initial memory usage: 224.64 MB\n",
      "Memory usage after DBSCAN: 224.86 MB\n",
      "Memory difference: 0.22 MB\n"
     ]
    }
   ],
   "source": [
    "import numpy as np\n",
    "import dbscan\n",
    "from dbscan import DBSCAN\n",
    "\n",
    "print(dbscan.__version__)\n",
    "\n",
    "# 初期のメモリ使用量を取得\n",
    "initial_memory = get_memory_usage()\n",
    "print(f\"Initial memory usage: {initial_memory / 1024 / 1024:.2f} MB\")\n",
    "\n",
    "points = np.random.rand(100000, 3)\n",
    "pcd_np = np.asarray(points)\n",
    "\n",
    "labels_another, core_samples_mask = DBSCAN(pcd_np, eps=0.025, min_samples=10)\n",
    "\n",
    "# DBSCAN実行後のメモリ使用量を取得\n",
    "after_memory = get_memory_usage()\n",
    "print(f\"Memory usage after DBSCAN: {after_memory / 1024 / 1024:.2f} MB\")\n",
    "\n",
    "# メモリ使用量の差を計算\n",
    "memory_diff = after_memory - initial_memory\n",
    "print(f\"Memory difference: {memory_diff / 1024 / 1024:.2f} MB\")"
   ]
  },
  {
   "cell_type": "code",
   "execution_count": 24,
   "metadata": {},
   "outputs": [
    {
     "name": "stdout",
     "output_type": "stream",
     "text": [
      "Iteration 1: Memory usage: 224.84 MB\n",
      "Iteration 2: Memory usage: 224.86 MB\n",
      "Iteration 3: Memory usage: 224.87 MB\n",
      "Iteration 4: Memory usage: 224.87 MB\n",
      "Iteration 5: Memory usage: 224.87 MB\n",
      "Iteration 6: Memory usage: 224.87 MB\n",
      "Iteration 7: Memory usage: 224.87 MB\n",
      "Iteration 8: Memory usage: 224.87 MB\n",
      "Iteration 9: Memory usage: 224.87 MB\n",
      "Iteration 10: Memory usage: 224.87 MB\n",
      "Iteration 11: Memory usage: 224.86 MB\n",
      "Iteration 12: Memory usage: 224.86 MB\n",
      "Iteration 13: Memory usage: 224.86 MB\n",
      "Iteration 14: Memory usage: 224.91 MB\n",
      "Iteration 15: Memory usage: 224.90 MB\n"
     ]
    }
   ],
   "source": [
    "# 複数回DBSCANを実行し、メモリ使用量を確認\n",
    "num_iterations = 15\n",
    "\n",
    "for i in range(num_iterations):\n",
    "    labels, core_samples = DBSCAN(pcd_np, eps=0.025, min_samples=10)\n",
    "    current_memory = get_memory_usage()\n",
    "    print(f\"Iteration {i+1}: Memory usage: {current_memory / 1024 / 1024:.2f} MB\")"
   ]
  },
  {
   "cell_type": "code",
   "execution_count": 25,
   "metadata": {},
   "outputs": [
    {
     "name": "stdout",
     "output_type": "stream",
     "text": [
      "Initial memory usage: 224.90 MB\n",
      "Reference count of labels_another: 3\n",
      "Reference count of core_samples_mask: 3\n",
      "Weak reference to labels_another before second gc.collect(): None\n",
      "Weak reference to core_samples_mask before second gc.collect(): None\n",
      "Weak reference to labels_another after second gc.collect(): None\n",
      "Weak reference to core_samples_mask after second gc.collect(): None\n",
      "Memory difference after iteration 15: 0.00 MB\n",
      "Memory usage after additional gc.collect: 224.93 MB\n"
     ]
    }
   ],
   "source": [
    "import os\n",
    "import psutil\n",
    "import numpy as np\n",
    "from dbscan import DBSCAN\n",
    "import sys\n",
    "import weakref\n",
    "import gc\n",
    "\n",
    "# 初期のメモリ使用量を取得\n",
    "def get_memory_usage():\n",
    "    process = psutil.Process(os.getpid())\n",
    "    return process.memory_info().rss\n",
    "\n",
    "initial_memory = get_memory_usage()\n",
    "\n",
    "# ランダムな点群データを生成\n",
    "pcd_np = np.random.rand(100000, 3)\n",
    "\n",
    "# DBSCANを実行\n",
    "labels_another, core_samples_mask = DBSCAN(pcd_np, eps=0.025, min_samples=10)\n",
    "\n",
    "# メモリ使用量と参照カウントを確認\n",
    "print(f\"Initial memory usage: {initial_memory / 1024 / 1024:.2f} MB\")\n",
    "\n",
    "# 参照カウントを確認\n",
    "r = (labels_another, core_samples_mask)\n",
    "print(f\"Reference count of labels_another: {sys.getrefcount(labels_another)}\")\n",
    "print(f\"Reference count of core_samples_mask: {sys.getrefcount(core_samples_mask)}\")\n",
    "\n",
    "# 弱参照を作成\n",
    "weak_labels = weakref.ref(r[0])\n",
    "weak_core_samples = weakref.ref(r[1])\n",
    "\n",
    "# rへの参照を削除 + ガベージコレクションを実行\n",
    "del r\n",
    "del labels_another, core_samples_mask\n",
    "gc.collect()\n",
    "\n",
    "# 弱参照先のオブジェクトにアクセス\n",
    "print(f\"Weak reference to labels_another before second gc.collect(): {weak_labels()}\")\n",
    "print(f\"Weak reference to core_samples_mask before second gc.collect(): {weak_core_samples()}\")\n",
    "\n",
    "# 再度ガベージコレクションを実行\n",
    "gc.collect()\n",
    "\n",
    "# 弱参照先のオブジェクトにアクセス\n",
    "print(f\"Weak reference to labels_another after second gc.collect(): {weak_labels()}\")\n",
    "print(f\"Weak reference to core_samples_mask after second gc.collect(): {weak_core_samples()}\")\n",
    "\n",
    "# メモリ使用量の差を計算\n",
    "memory_diff = current_memory - initial_memory\n",
    "print(f\"Memory difference after iteration {i+1}: {memory_diff / 1024 / 1024:.2f} MB\")\n",
    "\n",
    "# 追加のガベージコレクションの実行とメモリ使用量の確認\n",
    "gc.collect()\n",
    "current_memory = get_memory_usage()\n",
    "print(f\"Memory usage after additional gc.collect: {current_memory / 1024 / 1024:.2f} MB\")\n"
   ]
  },
  {
   "cell_type": "markdown",
   "metadata": {},
   "source": [
    "- ガベージコレクション（gc.collect()）を実行した結果、弱参照g()がNoneを返せている\n",
    "    - r[0]が参照するオブジェクトがガベージコレクション後に解放されている"
   ]
  },
  {
   "cell_type": "markdown",
   "metadata": {},
   "source": []
  }
 ],
 "metadata": {
  "kernelspec": {
   "display_name": "dbscan-comparison-YYBUCwht-py3.10",
   "language": "python",
   "name": "python3"
  },
  "language_info": {
   "codemirror_mode": {
    "name": "ipython",
    "version": 3
   },
   "file_extension": ".py",
   "mimetype": "text/x-python",
   "name": "python",
   "nbconvert_exporter": "python",
   "pygments_lexer": "ipython3",
   "version": "3.10.6"
  }
 },
 "nbformat": 4,
 "nbformat_minor": 2
}
