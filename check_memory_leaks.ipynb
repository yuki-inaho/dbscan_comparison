{
 "cells": [
  {
   "cell_type": "markdown",
   "metadata": {},
   "source": [
    "コード: https://github.com/yuki-inaho/dbscan_comparison\n",
    "\n",
    "コミット: forkしたリポジトリのhotfix/memory_leaks_42e1e71ブランチの最新コミット(5bd612ab937889d83e5ef6f6714f843fcf4e2b46)"
   ]
  },
  {
   "cell_type": "code",
   "execution_count": 5,
   "metadata": {},
   "outputs": [],
   "source": [
    "import os\n",
    "import psutil\n",
    "\n",
    "def get_memory_usage():\n",
    "    process = psutil.Process(os.getpid())\n",
    "    return process.memory_info().rss"
   ]
  },
  {
   "cell_type": "code",
   "execution_count": 6,
   "metadata": {},
   "outputs": [
    {
     "name": "stdout",
     "output_type": "stream",
     "text": [
      "Memory usage after DBSCAN: 225.13 MB\n"
     ]
    }
   ],
   "source": [
    "# DBSCAN実行後のメモリ使用量を取得\n",
    "after_memory = get_memory_usage()\n",
    "print(f\"Memory usage after DBSCAN: {after_memory / 1024 / 1024:.2f} MB\")\n"
   ]
  },
  {
   "cell_type": "code",
   "execution_count": 7,
   "metadata": {},
   "outputs": [
    {
     "name": "stdout",
     "output_type": "stream",
     "text": [
      "Initial memory usage: 225.13 MB\n",
      "Memory usage after DBSCAN: 225.65 MB\n",
      "Memory difference: 0.52 MB\n",
      "Memory usage after DBSCAN: 225.65 MB\n",
      "Memory difference: 0.52 MB\n"
     ]
    }
   ],
   "source": [
    "import numpy as np\n",
    "from dbscan import DBSCAN\n",
    "\n",
    "# 初期のメモリ使用量を取得\n",
    "initial_memory = get_memory_usage()\n",
    "print(f\"Initial memory usage: {initial_memory / 1024 / 1024:.2f} MB\")\n",
    "\n",
    "points = np.random.rand(100000, 3)\n",
    "pcd_np = np.asarray(points)\n",
    "\n",
    "labels_another, core_samples_mask = DBSCAN(pcd_np, eps=0.025, min_samples=10)\n",
    "\n",
    "# DBSCAN実行後のメモリ使用量を取得\n",
    "after_memory = get_memory_usage()\n",
    "print(f\"Memory usage after DBSCAN: {after_memory / 1024 / 1024:.2f} MB\")\n",
    "\n",
    "# メモリ使用量の差を計算\n",
    "memory_diff = after_memory - initial_memory\n",
    "print(f\"Memory difference: {memory_diff / 1024 / 1024:.2f} MB\")"
   ]
  },
  {
   "cell_type": "code",
   "execution_count": 8,
   "metadata": {},
   "outputs": [
    {
     "name": "stdout",
     "output_type": "stream",
     "text": [
      "Iteration 1: Memory usage: 226.14 MB\n",
      "Iteration 2: Memory usage: 226.14 MB\n",
      "Iteration 3: Memory usage: 226.89 MB\n",
      "Iteration 4: Memory usage: 226.88 MB\n",
      "Iteration 5: Memory usage: 226.89 MB\n",
      "Iteration 6: Memory usage: 226.89 MB\n",
      "Iteration 7: Memory usage: 226.89 MB\n",
      "Iteration 8: Memory usage: 226.89 MB\n",
      "Iteration 9: Memory usage: 226.88 MB\n",
      "Iteration 10: Memory usage: 226.89 MB\n",
      "Iteration 11: Memory usage: 226.89 MB\n",
      "Iteration 12: Memory usage: 226.89 MB\n",
      "Iteration 13: Memory usage: 226.89 MB\n",
      "Iteration 14: Memory usage: 226.88 MB\n",
      "Iteration 15: Memory usage: 226.89 MB\n",
      "Iteration 16: Memory usage: 226.88 MB\n",
      "Iteration 17: Memory usage: 226.89 MB\n",
      "Iteration 18: Memory usage: 226.89 MB\n",
      "Iteration 19: Memory usage: 226.88 MB\n",
      "Iteration 20: Memory usage: 226.89 MB\n",
      "Iteration 21: Memory usage: 226.89 MB\n",
      "Iteration 22: Memory usage: 226.88 MB\n",
      "Iteration 23: Memory usage: 226.89 MB\n",
      "Iteration 24: Memory usage: 226.89 MB\n",
      "Iteration 25: Memory usage: 226.89 MB\n",
      "Iteration 26: Memory usage: 226.89 MB\n",
      "Iteration 27: Memory usage: 226.87 MB\n",
      "Iteration 28: Memory usage: 226.89 MB\n",
      "Iteration 29: Memory usage: 226.86 MB\n",
      "Iteration 30: Memory usage: 226.89 MB\n",
      "Iteration 31: Memory usage: 226.89 MB\n",
      "Iteration 32: Memory usage: 226.89 MB\n",
      "Iteration 33: Memory usage: 226.89 MB\n",
      "Iteration 34: Memory usage: 226.89 MB\n",
      "Iteration 35: Memory usage: 226.89 MB\n",
      "Iteration 36: Memory usage: 226.89 MB\n",
      "Iteration 37: Memory usage: 226.88 MB\n",
      "Iteration 38: Memory usage: 226.89 MB\n",
      "Iteration 39: Memory usage: 226.89 MB\n",
      "Iteration 40: Memory usage: 226.90 MB\n",
      "Iteration 41: Memory usage: 226.90 MB\n",
      "Iteration 42: Memory usage: 226.89 MB\n",
      "Iteration 43: Memory usage: 226.90 MB\n",
      "Iteration 44: Memory usage: 226.90 MB\n",
      "Iteration 45: Memory usage: 226.89 MB\n",
      "Iteration 46: Memory usage: 226.89 MB\n",
      "Iteration 47: Memory usage: 226.90 MB\n",
      "Iteration 48: Memory usage: 226.90 MB\n",
      "Iteration 49: Memory usage: 226.88 MB\n",
      "Iteration 50: Memory usage: 226.89 MB\n",
      "Iteration 51: Memory usage: 226.90 MB\n",
      "Iteration 52: Memory usage: 226.90 MB\n",
      "Iteration 53: Memory usage: 226.90 MB\n",
      "Iteration 54: Memory usage: 226.89 MB\n",
      "Iteration 55: Memory usage: 226.90 MB\n",
      "Iteration 56: Memory usage: 226.90 MB\n",
      "Iteration 57: Memory usage: 226.90 MB\n",
      "Iteration 58: Memory usage: 226.89 MB\n",
      "Iteration 59: Memory usage: 227.08 MB\n",
      "Iteration 60: Memory usage: 227.08 MB\n",
      "Iteration 61: Memory usage: 227.07 MB\n",
      "Iteration 62: Memory usage: 227.08 MB\n",
      "Iteration 63: Memory usage: 227.08 MB\n",
      "Iteration 64: Memory usage: 227.08 MB\n",
      "Iteration 65: Memory usage: 227.08 MB\n",
      "Iteration 66: Memory usage: 227.08 MB\n",
      "Iteration 67: Memory usage: 227.08 MB\n",
      "Iteration 68: Memory usage: 227.06 MB\n",
      "Iteration 69: Memory usage: 227.08 MB\n",
      "Iteration 70: Memory usage: 227.07 MB\n",
      "Iteration 71: Memory usage: 227.08 MB\n",
      "Iteration 72: Memory usage: 227.08 MB\n",
      "Iteration 73: Memory usage: 227.08 MB\n",
      "Iteration 74: Memory usage: 227.08 MB\n",
      "Iteration 75: Memory usage: 227.08 MB\n",
      "Iteration 76: Memory usage: 227.08 MB\n",
      "Iteration 77: Memory usage: 227.07 MB\n",
      "Iteration 78: Memory usage: 227.08 MB\n",
      "Iteration 79: Memory usage: 227.07 MB\n",
      "Iteration 80: Memory usage: 227.08 MB\n",
      "Iteration 81: Memory usage: 227.08 MB\n",
      "Iteration 82: Memory usage: 227.08 MB\n",
      "Iteration 83: Memory usage: 227.07 MB\n",
      "Iteration 84: Memory usage: 227.67 MB\n",
      "Iteration 85: Memory usage: 227.65 MB\n",
      "Iteration 86: Memory usage: 227.66 MB\n",
      "Iteration 87: Memory usage: 227.66 MB\n",
      "Iteration 88: Memory usage: 227.68 MB\n",
      "Iteration 89: Memory usage: 227.68 MB\n",
      "Iteration 90: Memory usage: 227.68 MB\n",
      "Iteration 91: Memory usage: 227.68 MB\n",
      "Iteration 92: Memory usage: 227.68 MB\n",
      "Iteration 93: Memory usage: 227.68 MB\n",
      "Iteration 94: Memory usage: 227.66 MB\n",
      "Iteration 95: Memory usage: 227.68 MB\n",
      "Iteration 96: Memory usage: 227.68 MB\n",
      "Iteration 97: Memory usage: 227.68 MB\n",
      "Iteration 98: Memory usage: 227.68 MB\n",
      "Iteration 99: Memory usage: 227.66 MB\n",
      "Iteration 100: Memory usage: 227.68 MB\n"
     ]
    }
   ],
   "source": [
    "# 複数回DBSCANを実行し、メモリ使用量を確認\n",
    "num_iterations = 100\n",
    "\n",
    "for i in range(num_iterations):\n",
    "    points = np.random.rand(100000, 3)\n",
    "    pcd_np = np.asarray(points)\n",
    "    labels, core_samples = DBSCAN(pcd_np, eps=0.025, min_samples=10)\n",
    "    current_memory = get_memory_usage()\n",
    "    print(f\"Iteration {i+1}: Memory usage: {current_memory / 1024 / 1024:.2f} MB\")"
   ]
  },
  {
   "cell_type": "code",
   "execution_count": 9,
   "metadata": {},
   "outputs": [
    {
     "name": "stdout",
     "output_type": "stream",
     "text": [
      "Initial memory usage: 227.68 MB\n",
      "Initial reference count of labels_another: 2\n",
      "Initial reference count of core_samples_mask: 2\n",
      "Post-GC reference count of labels_another: None (object collected)\n",
      "Post-GC reference count of core_samples_mask: None (object collected)\n",
      "Memory difference after GC: 0.00 MB\n"
     ]
    }
   ],
   "source": [
    "import os\n",
    "import psutil\n",
    "import numpy as np\n",
    "from dbscan import DBSCAN\n",
    "import sys\n",
    "import weakref\n",
    "import gc\n",
    "\n",
    "# 初期のメモリ使用量を取得\n",
    "def get_memory_usage():\n",
    "    process = psutil.Process(os.getpid())\n",
    "    return process.memory_info().rss\n",
    "\n",
    "initial_memory = get_memory_usage()\n",
    "\n",
    "# ランダムな点群データを生成\n",
    "pcd_np = np.random.rand(100000, 3)\n",
    "\n",
    "# DBSCANを実行\n",
    "labels_another, core_samples_mask = DBSCAN(pcd_np, eps=0.025, min_samples=10)\n",
    "\n",
    "# メモリ使用量と参照カウントを確認\n",
    "print(f\"Initial memory usage: {initial_memory / 1024 / 1024:.2f} MB\")\n",
    "\n",
    "# 初期参照カウントを確認\n",
    "initial_ref_count_labels = sys.getrefcount(labels_another)\n",
    "initial_ref_count_core_samples = sys.getrefcount(core_samples_mask)\n",
    "print(f\"Initial reference count of labels_another: {initial_ref_count_labels}\")\n",
    "print(f\"Initial reference count of core_samples_mask: {initial_ref_count_core_samples}\")\n",
    "\n",
    "# 弱参照を作成\n",
    "weak_labels = weakref.ref(labels_another)\n",
    "weak_core_samples = weakref.ref(core_samples_mask)\n",
    "\n",
    "# labels_another, core_samples_maskの参照を削除 + ガベージコレクションを実行\n",
    "del labels_another, core_samples_mask\n",
    "gc.collect()\n",
    "\n",
    "# 参照カウントを再度取得\n",
    "if weak_labels() is not None:\n",
    "    post_gc_ref_count_labels = sys.getrefcount(weak_labels())\n",
    "    print(f\"Post-GC reference count of labels_another: {post_gc_ref_count_labels}\")\n",
    "else:\n",
    "    print(f\"Post-GC reference count of labels_another: None (object collected)\")\n",
    "\n",
    "if weak_core_samples() is not None:\n",
    "    post_gc_ref_count_core_samples = sys.getrefcount(weak_core_samples())\n",
    "    print(f\"Post-GC reference count of core_samples_mask: {post_gc_ref_count_core_samples}\")\n",
    "else:\n",
    "    print(f\"Post-GC reference count of core_samples_mask: None (object collected)\")\n",
    "\n",
    "# メモリ使用量の差を計算\n",
    "current_memory = get_memory_usage()\n",
    "memory_diff = current_memory - initial_memory\n",
    "print(f\"Memory difference after GC: {memory_diff / 1024 / 1024:.2f} MB\")\n"
   ]
  }
 ],
 "metadata": {
  "kernelspec": {
   "display_name": "dbscan-comparison-YYBUCwht-py3.10",
   "language": "python",
   "name": "python3"
  },
  "language_info": {
   "codemirror_mode": {
    "name": "ipython",
    "version": 3
   },
   "file_extension": ".py",
   "mimetype": "text/x-python",
   "name": "python",
   "nbconvert_exporter": "python",
   "pygments_lexer": "ipython3",
   "version": "3.10.6"
  }
 },
 "nbformat": 4,
 "nbformat_minor": 2
}
